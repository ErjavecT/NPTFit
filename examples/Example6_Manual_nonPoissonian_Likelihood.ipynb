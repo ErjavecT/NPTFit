{
 "cells": [
  {
   "cell_type": "markdown",
   "metadata": {},
   "source": [
    "# Example 6: Manual evaluation of non-Poissonian Likelihood"
   ]
  },
  {
   "cell_type": "markdown",
   "metadata": {},
   "source": [
    "In this example we show to manually evaluate the non-Poissonian likelihood. This can be used, for example, to interface `nptfit` with parameter estimation packages other than MultiNest. We also show how to extract the prior cube.\n",
    "\n",
    "We will take the exact same analysis as considered in the previous example, and show the likelihood peaks at exactly the same location for the normalisation of the non-Poissonian template.\n",
    "\n",
    "**NB:** this example makes use of the Fermi Data, which needs to already be installed. See Example 1 for details."
   ]
  },
  {
   "cell_type": "code",
   "execution_count": 1,
   "metadata": {
    "collapsed": false
   },
   "outputs": [],
   "source": [
    "# Import relevant modules\n",
    "\n",
    "%matplotlib inline\n",
    "%load_ext autoreload\n",
    "%autoreload 2\n",
    "\n",
    "import numpy as np\n",
    "import healpy as hp\n",
    "import matplotlib.pyplot as plt\n",
    "from matplotlib import rcParams\n",
    "\n",
    "from NPTFit import nptfit # module for performing scan\n",
    "from NPTFit import create_mask as cm # module for creating the mask\n",
    "from NPTFit import psf_correction as pc # module for determining the PSF correction\n",
    "from NPTFit import dnds_analysis # module for analysing the output"
   ]
  },
  {
   "cell_type": "code",
   "execution_count": 2,
   "metadata": {
    "collapsed": false
   },
   "outputs": [],
   "source": [
    "# Set plotting options\n",
    "rcParams['xtick.labelsize'] = 20\n",
    "rcParams['ytick.labelsize'] = 20\n",
    "rcParams['axes.labelsize'] = 20\n",
    "rcParams['axes.titlesize'] = 20\n",
    "rcParams['font.family'] = 'serif'\n",
    "rcParams['font.serif'] = 'CMU Serif'\n",
    "rcParams['figure.figsize'] = (7,5)\n",
    "rcParams['legend.fontsize'] = 16\n",
    "rcParams['lines.linewidth'] = 1.5\n",
    "# rcParams['text.usetex'] = True"
   ]
  },
  {
   "cell_type": "markdown",
   "metadata": {},
   "source": [
    "## Setup an identical instance of NPTFit to Example 5"
   ]
  },
  {
   "cell_type": "markdown",
   "metadata": {},
   "source": [
    "Firstly we initialize an instance of `nptfit` identical to that used in the previous example."
   ]
  },
  {
   "cell_type": "code",
   "execution_count": 3,
   "metadata": {
    "collapsed": true
   },
   "outputs": [],
   "source": [
    "n = nptfit.NPTF(tag='non-Poissonian_Example')"
   ]
  },
  {
   "cell_type": "code",
   "execution_count": 4,
   "metadata": {
    "collapsed": true
   },
   "outputs": [],
   "source": [
    "fermi_data = np.load('fermi_data/fermidata_counts.npy')\n",
    "fermi_exposure = np.load('fermi_data/fermidata_exposure.npy')\n",
    "n.load_data(fermi_data, fermi_exposure)"
   ]
  },
  {
   "cell_type": "code",
   "execution_count": 5,
   "metadata": {
    "collapsed": true
   },
   "outputs": [],
   "source": [
    "analysis_mask = cm.make_mask_total(mask_ring = True, inner = 0, outer = 5, ring_b = 90, ring_l = 0)\n",
    "n.load_mask(analysis_mask)"
   ]
  },
  {
   "cell_type": "code",
   "execution_count": 6,
   "metadata": {
    "collapsed": true
   },
   "outputs": [],
   "source": [
    "iso = np.load('fermi_data/template_iso.npy')\n",
    "n.add_template(iso, 'iso')\n"
   ]
  },
  {
   "cell_type": "code",
   "execution_count": 7,
   "metadata": {
    "collapsed": true
   },
   "outputs": [],
   "source": [
    "n.add_poiss_model('iso','$A_\\mathrm{iso}$', False, fixed=True, fixed_norm=1.47)\n",
    "n.add_non_poiss_model('iso',\n",
    "                      ['$A^\\mathrm{ps}_\\mathrm{iso}$','$n_1$','$n_2$','$S_b$'],\n",
    "                      [[-6,1],[2.05,30],[-2,1.95]],\n",
    "                      [True,False,False],\n",
    "                      fixed_params = [[3,22.]])"
   ]
  },
  {
   "cell_type": "code",
   "execution_count": 8,
   "metadata": {
    "collapsed": false
   },
   "outputs": [
    {
     "name": "stdout",
     "output_type": "stream",
     "text": [
      "Loading the psf correction from: /group/hepheno/smsharma/NPTFit/examples/notebooks/psf_dir/gauss_128_0.181_10_50000_1000_0.01.npy\n"
     ]
    }
   ],
   "source": [
    "pc_inst = pc.psf_correction(psf_sigma_deg=0.1812)\n",
    "f_ary = pc_inst.f_ary\n",
    "df_rho_div_f_ary = pc_inst.df_rho_div_f_ary"
   ]
  },
  {
   "cell_type": "code",
   "execution_count": 9,
   "metadata": {
    "collapsed": false
   },
   "outputs": [
    {
     "name": "stdout",
     "output_type": "stream",
     "text": [
      "The number of parameters to be fit is 3\n"
     ]
    }
   ],
   "source": [
    "n.configure_for_scan(f_ary=f_ary, df_rho_div_f_ary=df_rho_div_f_ary, nexp=1)"
   ]
  },
  {
   "cell_type": "markdown",
   "metadata": {},
   "source": [
    "## Evaluate the Likelihood Manually"
   ]
  },
  {
   "cell_type": "markdown",
   "metadata": {},
   "source": [
    "After configuring for the scan, the instance of `nptfit.NPTF` now has an associated function `ll`. This function was passed to MultiNest in the previous example, but we can also manually evaluate it.\n",
    "\n",
    "The log likelihood function is called as: `ll(theta)`, where `theta` is a flattened array of parameters. In the case above:\n",
    "\n",
    "$$ \\theta = \\left[ \\log_{10} \\left( A^\\mathrm{ps}_\\mathrm{iso} \\right), n_1, n_2 \\right] $$\n",
    "\n",
    "As an example we can evaluate it at a few points around the best fit parameters:"
   ]
  },
  {
   "cell_type": "code",
   "execution_count": 10,
   "metadata": {
    "collapsed": false
   },
   "outputs": [
    {
     "name": "stdout",
     "output_type": "stream",
     "text": [
      "Vary A:  -587.544743553 -587.027530155 -588.170147198\n",
      "Vary n1: -588.4384237 -587.027530155 -586.815906361\n",
      "Vary n2: -587.14000602 -587.027530155"
     ]
    },
    {
     "name": "stderr",
     "output_type": "stream",
     "text": [
      "../../NPTFit/nptf_scan.py:354: VisibleDeprecationWarning: using a non-integer number instead of an integer will result in an error in the future\n",
      "  for j in range(len(self.NPT_dist_compressed_exp_ary))]\n"
     ]
    },
    {
     "name": "stdout",
     "output_type": "stream",
     "text": [
      " -587.082292285\n"
     ]
    }
   ],
   "source": [
    "print 'Vary A: ', n.ll([-3.52+0.22,2.56,-0.48]), n.ll([-3.52,2.56,-0.48]), n.ll([-3.52-0.24,2.56,-0.48])\n",
    "print 'Vary n1:', n.ll([-3.52,2.56+0.67,-0.48]), n.ll([-3.52,2.56,-0.48]), n.ll([-3.52,2.56-0.37,-0.48])\n",
    "print 'Vary n2:', n.ll([-3.52,2.56,-0.48+1.18]), n.ll([-3.52,2.56,-0.48]), n.ll([-3.52,2.56,-0.48-1.02])"
   ]
  },
  {
   "cell_type": "markdown",
   "metadata": {},
   "source": [
    "To make the point clearer we can fix $n_1$ and $n_2$ to their best fit values, and calculate a Test Statistics (TS) array as we vary $\\log_{10} \\left( A^\\mathrm{ps}_\\mathrm{iso} \\right)$. As shown the likelihood is maximised at approximated where MultiNest told us was the best fit point for this parameter."
   ]
  },
  {
   "cell_type": "code",
   "execution_count": 11,
   "metadata": {
    "collapsed": true
   },
   "outputs": [],
   "source": [
    "Avals = np.arange(-5.5,0.5,0.01)\n",
    "TSvals_A = np.array([2*(n.ll([-3.52,2.56,-0.48])-n.ll([Avals[i],2.56,-0.48])) for i in range(len(Avals))])"
   ]
  },
  {
   "cell_type": "code",
   "execution_count": 12,
   "metadata": {
    "collapsed": false
   },
   "outputs": [
    {
     "data": {
      "image/png": "[encoded data removed]",
      "text/plain": [
       "<matplotlib.figure.Figure at 0x2b79bc33dd10>"
      ]
     },
     "metadata": {},
     "output_type": "display_data"
    }
   ],
   "source": [
    "plt.plot(Avals,TSvals_A,color='black')\n",
    "plt.axvline(-3.52+0.22,ls='dashed',color='black')\n",
    "plt.axvline(-3.52,ls='dashed',color='black')\n",
    "plt.axvline(-3.52-0.24,ls='dashed',color='black')\n",
    "plt.axhline(0,ls='dashed',color='black')\n",
    "plt.xlim([-4.0,-3.0])\n",
    "plt.ylim([-5.0,15.0])\n",
    "plt.xlabel('$A^\\mathrm{ps}_\\mathrm{iso}$')\n",
    "plt.ylabel('$\\mathrm{TS}$')\n",
    "plt.show()"
   ]
  },
  {
   "cell_type": "markdown",
   "metadata": {},
   "source": [
    "Next we do the same thing for $n_2$. This time we see that this parameter is much more poorly constrained than the value of the normalisation, as the TS is very flat.\n",
    "\n",
    "**NB:** it is important not to evaluate breaks exactly at a value of $n=1$. The reason for this is the analytic form of the likelihood involves $(n-1)^{-1}$."
   ]
  },
  {
   "cell_type": "code",
   "execution_count": 13,
   "metadata": {
    "collapsed": false
   },
   "outputs": [],
   "source": [
    "n2vals = np.arange(-1.995,1.945,0.01)\n",
    "TSvals_n2 = np.array([2*(n.ll([-3.52,2.56,-0.48])-n.ll([-3.52,2.56,n2vals[i]])) for i in range(len(n2vals))])"
   ]
  },
  {
   "cell_type": "code",
   "execution_count": 14,
   "metadata": {
    "collapsed": false
   },
   "outputs": [
    {
     "data": {
      "image/png": "[encoded data removed]",
      "text/plain": [
       "<matplotlib.figure.Figure at 0x53c88db6cc50>"
      ]
     },
     "metadata": {},
     "output_type": "display_data"
    }
   ],
   "source": [
    "plt.plot(n2vals,TSvals_n2,color='black')\n",
    "plt.axvline(-0.48+1.18,ls='dashed',color='black')\n",
    "plt.axvline(-0.48,ls='dashed',color='black')\n",
    "plt.axvline(-0.48-1.02,ls='dashed',color='black')\n",
    "plt.axhline(0,ls='dashed',color='black')\n",
    "plt.xlim([-2.0,1.5])\n",
    "plt.ylim([-5.0,15.0])\n",
    "plt.xlabel('$n_2$')\n",
    "plt.ylabel('$\\mathrm{TS}$')\n",
    "plt.show()"
   ]
  },
  {
   "cell_type": "markdown",
   "metadata": {},
   "source": [
    "In general $\\theta$ will always be a flattened array of the floated parameters. Poisson parameters always occur first, in the order in which they were added (via `add_poiss_model`), following by non-Poissonian parameters in the order they were added (via `add_non_poiss_model`). To be explicit if we have $m$ Poissonian templates and $n$ non-Poissonian templates with breaks $\\ell_n$, then:\n",
    "\n",
    "$$ \\theta = \\left[ A_\\mathrm{P}^1, \\ldots, A_\\mathrm{P}^m, A_\\mathrm{NP}^1, n_1^1, \\ldots, n_{\\ell_1+1}^1, S_b^{(1)~1}, \\ldots, S_b^{(\\ell_1)~1}, \\ldots, A_\\mathrm{NP}^n, n_1^n, \\ldots, n_{\\ell_n+1}^n, S_b^{(1)~n}, \\ldots, S_b^{(\\ell_n)~n} \\right]\n",
    "$$\n",
    "\n",
    "Fixed parameters are deleted from the list, and any parameter entered with a log flat prior is replaced by $\\log_{10}$ of itself."
   ]
  },
  {
   "cell_type": "markdown",
   "metadata": {},
   "source": [
    "## Extract the Prior Cube Manually"
   ]
  },
  {
   "cell_type": "markdown",
   "metadata": {},
   "source": [
    "To extract the prior cube, we use the internal function `log_prior_cube`. This requires two arguments: 1. `cube`, the unit cube of dimension equal to the number of floated parameters; and 2. `ndim`, the number of floated parameters."
   ]
  },
  {
   "cell_type": "code",
   "execution_count": 15,
   "metadata": {
    "collapsed": false
   },
   "outputs": [
    {
     "name": "stdout",
     "output_type": "stream",
     "text": [
      "[1.0, 30.0, 1.9500000000000002]\n"
     ]
    }
   ],
   "source": [
    "print n.prior_cube(cube=[1,1,1],ndim=3)"
   ]
  }
 ],
 "metadata": {
  "kernelspec": {
   "display_name": "Python 2",
   "language": "python",
   "name": "python2"
  },
  "language_info": {
   "codemirror_mode": {
    "name": "ipython",
    "version": 2
   },
   "file_extension": ".py",
   "mimetype": "text/x-python",
   "name": "python",
   "nbconvert_exporter": "python",
   "pygments_lexer": "ipython2",
   "version": "2.7.11"
  }
 },
 "nbformat": 4,
 "nbformat_minor": 0
}
